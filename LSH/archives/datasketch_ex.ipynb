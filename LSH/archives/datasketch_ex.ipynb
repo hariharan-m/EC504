{
 "cells": [
  {
   "cell_type": "code",
   "execution_count": 3,
   "metadata": {},
   "outputs": [],
   "source": [
    "from PIL import Image"
   ]
  },
  {
   "cell_type": "code",
   "execution_count": 15,
   "metadata": {},
   "outputs": [],
   "source": [
    "image = Image.open(\"image_0001.jpg\")"
   ]
  },
  {
   "cell_type": "code",
   "execution_count": 18,
   "metadata": {},
   "outputs": [],
   "source": [
    "image = image.resize((8, 8), Image.ANTIALIAS)  # Reduce it's size."
   ]
  },
  {
   "cell_type": "code",
   "execution_count": 19,
   "metadata": {},
   "outputs": [],
   "source": [
    "image = image.convert(\"L\")  # Convert it to grayscale."
   ]
  },
  {
   "cell_type": "code",
   "execution_count": 20,
   "metadata": {},
   "outputs": [],
   "source": [
    "pixels = list(image.getdata())"
   ]
  },
  {
   "cell_type": "code",
   "execution_count": 21,
   "metadata": {},
   "outputs": [
    {
     "name": "stdout",
     "output_type": "stream",
     "text": [
      "[0, 148, 232, 151, 127, 112, 1, 0, 156, 194, 103, 101, 93, 120, 103, 14, 138, 42, 17, 77, 45, 45, 117, 153, 87, 56, 23, 20, 38, 17, 60, 114, 178, 83, 51, 36, 25, 50, 79, 63, 163, 182, 91, 41, 23, 10, 51, 66, 9, 127, 171, 80, 25, 11, 35, 85, 0, 0, 106, 166, 80, 134, 90, 6]\n"
     ]
    }
   ],
   "source": [
    "print(pixels)"
   ]
  },
  {
   "cell_type": "code",
   "execution_count": 22,
   "metadata": {},
   "outputs": [],
   "source": [
    "import os, sys\n",
    "import PIL\n",
    "import numpy\n",
    "from datasketch import MinHash, MinHashLSH\n",
    "from PIL import Image"
   ]
  },
  {
   "cell_type": "code",
   "execution_count": 45,
   "metadata": {},
   "outputs": [
    {
     "name": "stdout",
     "output_type": "stream",
     "text": [
      "[[[  0 255]\n",
      "  [ 38 255]\n",
      "  [227 255]\n",
      "  [221 255]\n",
      "  [157 255]\n",
      "  [120 255]\n",
      "  [145 255]\n",
      "  [ 24 255]\n",
      "  [  0 255]\n",
      "  [  4 255]]\n",
      "\n",
      " [[ 66 255]\n",
      "  [232 255]\n",
      "  [198 255]\n",
      "  [112 255]\n",
      "  [106 255]\n",
      "  [111 255]\n",
      "  [110 255]\n",
      "  [132 255]\n",
      "  [ 25 255]\n",
      "  [  0 255]]\n",
      "\n",
      " [[202 255]\n",
      "  [139 255]\n",
      "  [ 16 255]\n",
      "  [ 87 255]\n",
      "  [ 91 255]\n",
      "  [ 66 255]\n",
      "  [ 80 255]\n",
      "  [113 255]\n",
      "  [142 255]\n",
      "  [ 71 255]]\n",
      "\n",
      " [[ 96 255]\n",
      "  [ 55 255]\n",
      "  [ 35 255]\n",
      "  [  6 255]\n",
      "  [ 71 255]\n",
      "  [ 39 255]\n",
      "  [ 16 255]\n",
      "  [ 54 255]\n",
      "  [113 255]\n",
      "  [178 255]]\n",
      "\n",
      " [[109 255]\n",
      "  [ 61 255]\n",
      "  [ 45 255]\n",
      "  [ 19 255]\n",
      "  [ 18 255]\n",
      "  [ 48 255]\n",
      "  [ 15 255]\n",
      "  [ 38 255]\n",
      "  [ 72 255]\n",
      "  [103 255]]\n",
      "\n",
      " [[175 255]\n",
      "  [ 98 255]\n",
      "  [ 56 255]\n",
      "  [ 45 255]\n",
      "  [ 30 255]\n",
      "  [ 21 255]\n",
      "  [ 46 255]\n",
      "  [ 75 255]\n",
      "  [ 65 255]\n",
      "  [ 73 255]]\n",
      "\n",
      " [[198 255]\n",
      "  [173 255]\n",
      "  [ 99 255]\n",
      "  [ 70 255]\n",
      "  [ 46 255]\n",
      "  [ 31 255]\n",
      "  [  7 255]\n",
      "  [ 38 255]\n",
      "  [ 98 255]\n",
      "  [ 40 255]]\n",
      "\n",
      " [[ 55 255]\n",
      "  [180 255]\n",
      "  [187 255]\n",
      "  [ 87 255]\n",
      "  [ 37 255]\n",
      "  [ 18 255]\n",
      "  [ 25 255]\n",
      "  [  1 255]\n",
      "  [ 27 255]\n",
      "  [ 98 255]]\n",
      "\n",
      " [[  0 255]\n",
      "  [ 29 255]\n",
      "  [148 255]\n",
      "  [175 255]\n",
      "  [101 255]\n",
      "  [ 40 255]\n",
      "  [ 19 255]\n",
      "  [ 31 255]\n",
      "  [ 83 255]\n",
      "  [ 62 255]]\n",
      "\n",
      " [[  3 255]\n",
      "  [  0 255]\n",
      "  [ 16 255]\n",
      "  [128 255]\n",
      "  [172 255]\n",
      "  [ 84 255]\n",
      "  [136 255]\n",
      "  [165 255]\n",
      "  [ 39 255]\n",
      "  [  0 255]]]\n"
     ]
    }
   ],
   "source": [
    "img = Image.open(\"image_0001.jpg\").convert('LA').resize((10,10), PIL.Image.ANTIALIAS)\n",
    "numpy_array = numpy.array(img)\n",
    "# print(numpy_array)"
   ]
  },
  {
   "cell_type": "code",
   "execution_count": 65,
   "metadata": {},
   "outputs": [
    {
     "name": "stdout",
     "output_type": "stream",
     "text": [
      "True\n",
      "True\n",
      "Top 2 candidates ['m3']\n"
     ]
    }
   ],
   "source": [
    "from datasketch import MinHashLSHForest, MinHash\n",
    "\n",
    "img1 = Image.open(\"image_0001.jpg\").convert('LA').resize((10,10), PIL.Image.ANTIALIAS)\n",
    "img2 = Image.open(\"image_0002.jpg\").convert('LA').resize((10,10), PIL.Image.ANTIALIAS)\n",
    "img3 = Image.open(\"image_0001.jpg\").convert('LA').resize((10,10), PIL.Image.ANTIALIAS)\n",
    "\n",
    "data1 = numpy.array(img1)\n",
    "data2 = numpy.array(img2)\n",
    "data3 = numpy.array(img3)\n",
    "\n",
    "\n",
    "# Create MinHash objects\n",
    "m1 = MinHash(num_perm=128)\n",
    "m2 = MinHash(num_perm=128)\n",
    "m3 = MinHash(num_perm=128)\n",
    "for d in data1:\n",
    "    m1.update(d)\n",
    "for d in data2:\n",
    "    m2.update(d)\n",
    "for d in data3:\n",
    "    m3.update(d)\n",
    "\n",
    "forest = MinHashLSHForest(num_perm=128)\n",
    "\n",
    "# Add m2 and m3 into the index\n",
    "forest.add(\"m2\", m2)\n",
    "forest.add(\"m3\", m3)\n",
    "\n",
    "# IMPORTANT: must call index() otherwise the keys won't be searchable\n",
    "forest.index()\n",
    "\n",
    "# Check for membership using the key\n",
    "print(\"m2\" in forest)\n",
    "print(\"m3\" in forest)\n",
    "\n",
    "# Using m1 as the query, retrieve top 2 keys that have the higest Jaccard\n",
    "result = forest.query(m1, 2)\n",
    "print(\"Top 2 candidates\", result)"
   ]
  }
 ],
 "metadata": {
  "kernelspec": {
   "display_name": "Python 2",
   "language": "python",
   "name": "python2"
  },
  "language_info": {
   "codemirror_mode": {
    "name": "ipython",
    "version": 2
   },
   "file_extension": ".py",
   "mimetype": "text/x-python",
   "name": "python",
   "nbconvert_exporter": "python",
   "pygments_lexer": "ipython2",
   "version": "2.7.14"
  }
 },
 "nbformat": 4,
 "nbformat_minor": 2
}
